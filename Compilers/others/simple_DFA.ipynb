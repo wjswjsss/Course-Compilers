{
 "cells": [
  {
   "cell_type": "code",
   "execution_count": 7,
   "metadata": {},
   "outputs": [
    {
     "name": "stdout",
     "output_type": "stream",
     "text": [
      "DFA result for input \"1001\"': yes\n",
      "DFA result for input \"0110\"': no\n"
     ]
    },
    {
     "ename": "ValueError",
     "evalue": "Input string contains invalid character",
     "output_type": "error",
     "traceback": [
      "\u001b[1;31m---------------------------------------------------------------------------\u001b[0m",
      "\u001b[1;31mValueError\u001b[0m                                Traceback (most recent call last)",
      "Cell \u001b[1;32mIn[7], line 49\u001b[0m\n\u001b[0;32m     46\u001b[0m res \u001b[38;5;241m=\u001b[39m dfa_accepts(\u001b[38;5;124m\"\u001b[39m\u001b[38;5;124m0110\u001b[39m\u001b[38;5;124m\"\u001b[39m)\n\u001b[0;32m     47\u001b[0m \u001b[38;5;28mprint\u001b[39m(\u001b[38;5;124mf\u001b[39m\u001b[38;5;124m\"\u001b[39m\u001b[38;5;124mDFA result for input \u001b[39m\u001b[38;5;130;01m\\\"\u001b[39;00m\u001b[38;5;124m0110\u001b[39m\u001b[38;5;130;01m\\\"\u001b[39;00m\u001b[38;5;124m'\u001b[39m\u001b[38;5;124m: \u001b[39m\u001b[38;5;132;01m{\u001b[39;00mres\u001b[38;5;132;01m}\u001b[39;00m\u001b[38;5;124m\"\u001b[39m)\n\u001b[1;32m---> 49\u001b[0m res \u001b[38;5;241m=\u001b[39m \u001b[43mdfa_accepts\u001b[49m\u001b[43m(\u001b[49m\u001b[38;5;124;43m\"\u001b[39;49m\u001b[38;5;124;43mab10\u001b[39;49m\u001b[38;5;124;43m\"\u001b[39;49m\u001b[43m)\u001b[49m\n\u001b[0;32m     50\u001b[0m \u001b[38;5;28mprint\u001b[39m(\u001b[38;5;124mf\u001b[39m\u001b[38;5;124m\"\u001b[39m\u001b[38;5;124mDFA result for input \u001b[39m\u001b[38;5;130;01m\\\"\u001b[39;00m\u001b[38;5;124mab10\u001b[39m\u001b[38;5;130;01m\\\"\u001b[39;00m\u001b[38;5;124m'\u001b[39m\u001b[38;5;124m: \u001b[39m\u001b[38;5;132;01m{\u001b[39;00mres\u001b[38;5;132;01m}\u001b[39;00m\u001b[38;5;124m\"\u001b[39m)\n",
      "Cell \u001b[1;32mIn[7], line 30\u001b[0m, in \u001b[0;36mdfa_accepts\u001b[1;34m(x)\u001b[0m\n\u001b[0;32m     28\u001b[0m     input_index \u001b[38;5;241m=\u001b[39m \u001b[38;5;241m1\u001b[39m\n\u001b[0;32m     29\u001b[0m \u001b[38;5;28;01melse\u001b[39;00m:\n\u001b[1;32m---> 30\u001b[0m     \u001b[38;5;28;01mraise\u001b[39;00m \u001b[38;5;167;01mValueError\u001b[39;00m(\u001b[38;5;124m\"\u001b[39m\u001b[38;5;124mInput string contains invalid character\u001b[39m\u001b[38;5;124m\"\u001b[39m)\n\u001b[0;32m     32\u001b[0m current_state_idx \u001b[38;5;241m=\u001b[39m state_index[s]\n\u001b[0;32m     33\u001b[0m s \u001b[38;5;241m=\u001b[39m transition_table[current_state_idx][input_index]\n",
      "\u001b[1;31mValueError\u001b[0m: Input string contains invalid character"
     ]
    }
   ],
   "source": [
    "#create a simple DFA that recognizes the binary string that ends with \"01\"\n",
    "\n",
    "transition_table = [\n",
    "    # ['0', '1'] as input\n",
    "    ['S1', 'S0'],  # Transitions from S0\n",
    "    ['S1', 'S2'],  # Transitions from S1\n",
    "    ['S0', 'S0']   # Transitions from S2\n",
    "]\n",
    "\n",
    "state_index = {'S0': 0, 'S1': 1, 'S2': 2}\n",
    "\n",
    "def dfa_accepts(x):\n",
    "    s = 'S0'\n",
    "    \n",
    "    def nextChar(input_str, index):\n",
    "        if index < len(input_str):\n",
    "            return input_str[index]\n",
    "        else:\n",
    "            return 'eof'\n",
    "    \n",
    "    i = 0\n",
    "    c = nextChar(x, i)\n",
    "    \n",
    "    while c != 'eof':\n",
    "        if c == '0':\n",
    "            input_index = 0\n",
    "        elif c == '1':\n",
    "            input_index = 1\n",
    "        else:\n",
    "            raise ValueError(\"Input string contains invalid character\")\n",
    "\n",
    "        current_state_idx = state_index[s]\n",
    "        s = transition_table[current_state_idx][input_index]\n",
    "        \n",
    "        i += 1\n",
    "        c = nextChar(x, i)\n",
    "    \n",
    "    if s == 'S2':\n",
    "        return \"yes\"\n",
    "    else:\n",
    "        return \"no\"\n",
    "\n",
    "res = dfa_accepts(\"1001\")\n",
    "print(f\"DFA result for input \\\"1001\\\"': {res}\") # yes, ends with \"01\"\n",
    "\n",
    "res = dfa_accepts(\"0110\")\n",
    "print(f\"DFA result for input \\\"0110\\\"': {res}\") # no\n",
    "\n",
    "res = dfa_accepts(\"ab10\")\n",
    "print(f\"DFA result for input \\\"ab10\\\"': {res}\") # will raise an error \n",
    "\n"
   ]
  }
 ],
 "metadata": {
  "kernelspec": {
   "display_name": "d2l",
   "language": "python",
   "name": "python3"
  },
  "language_info": {
   "codemirror_mode": {
    "name": "ipython",
    "version": 3
   },
   "file_extension": ".py",
   "mimetype": "text/x-python",
   "name": "python",
   "nbconvert_exporter": "python",
   "pygments_lexer": "ipython3",
   "version": "3.9.19"
  }
 },
 "nbformat": 4,
 "nbformat_minor": 2
}
